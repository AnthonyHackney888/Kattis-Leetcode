{
  "nbformat": 4,
  "nbformat_minor": 0,
  "metadata": {
    "colab": {
      "name": "TopologyHorse.ipynb",
      "provenance": [],
      "authorship_tag": "ABX9TyMOkSVScw2g/UWTvaGPVVNR",
      "include_colab_link": true
    },
    "kernelspec": {
      "name": "python3",
      "display_name": "Python 3"
    },
    "language_info": {
      "name": "python"
    }
  },
  "cells": [
    {
      "cell_type": "markdown",
      "metadata": {
        "id": "view-in-github",
        "colab_type": "text"
      },
      "source": [
        "<a href=\"https://colab.research.google.com/github/AnthonyHackney888/Personal-Projects/blob/master/TopologyHorse.ipynb\" target=\"_parent\"><img src=\"https://colab.research.google.com/assets/colab-badge.svg\" alt=\"Open In Colab\"/></a>"
      ]
    },
    {
      "cell_type": "code",
      "source": [
        "#!pip install kmapper"
      ],
      "metadata": {
        "id": "fZAKxHv0YbZc"
      },
      "execution_count": 16,
      "outputs": []
    },
    {
      "cell_type": "code",
      "execution_count": 17,
      "metadata": {
        "id": "iWh_DihWRjtp"
      },
      "outputs": [],
      "source": [
        "import matplotlib.pyplot as plt\n",
        "\n",
        "import kmapper as km\n",
        "import sklearn\n",
        "import numpy as np"
      ]
    },
    {
      "cell_type": "code",
      "source": [
        "data = np.genfromtxt(\"sample_data/horse-reference.csv\",delimiter=',')\n",
        "\n",
        "mapper = km.KeplerMapper(verbose=2)\n",
        "\n",
        "lens = mapper.fit_transform(data)"
      ],
      "metadata": {
        "colab": {
          "base_uri": "https://localhost:8080/"
        },
        "id": "Cx10PVm7YqtS",
        "outputId": "40c49421-71d7-48c0-e1df-963b36abf9f2"
      },
      "execution_count": 18,
      "outputs": [
        {
          "output_type": "stream",
          "name": "stdout",
          "text": [
            "KeplerMapper(verbose=2)\n",
            "..Composing projection pipeline of length 1:\n",
            "\tProjections: sum\n",
            "\tDistance matrices: False\n",
            "\tScalers: MinMaxScaler()\n",
            "..Projecting on data shaped (8431, 3)\n",
            "\n",
            "..Projecting data using: sum\n",
            "\n",
            "..Scaling with: MinMaxScaler()\n",
            "\n"
          ]
        }
      ]
    },
    {
      "cell_type": "code",
      "source": [
        "graph = mapper.map(lens,data,clusterer=sklearn.cluster.DBSCAN(eps=0.1, min_samples=5),\n",
        "                   cover = km.Cover(30,.02),\n",
        "                   )\n",
        "mapper.visualize(graph,path_html=\"output/horse.html\", custom_tooltips=np.arange(len(lens)))\n",
        "\n",
        "km.drawing.draw_matplotlib(graph)\n",
        "plt.show()"
      ],
      "metadata": {
        "colab": {
          "base_uri": "https://localhost:8080/"
        },
        "id": "UVbh8-K8ZqIH",
        "outputId": "c410090d-7a77-48ea-d58b-57651595a9b4"
      },
      "execution_count": 19,
      "outputs": [
        {
          "output_type": "stream",
          "name": "stdout",
          "text": [
            "Mapping on data shaped (8431, 3) using lens shaped (8431, 1)\n",
            "\n",
            "Minimal points in hypercube before clustering: 5\n",
            "Creating 30 hypercubes.\n",
            "   > Found 1 clusters in hypercube 0.\n",
            "   > Found 2 clusters in hypercube 1.\n",
            "   > Found 3 clusters in hypercube 2.\n",
            "   > Found 3 clusters in hypercube 3.\n",
            "   > Found 3 clusters in hypercube 4.\n",
            "   > Found 3 clusters in hypercube 5.\n",
            "   > Found 3 clusters in hypercube 6.\n",
            "   > Found 1 clusters in hypercube 7.\n",
            "   > Found 2 clusters in hypercube 8.\n",
            "   > Found 2 clusters in hypercube 9.\n",
            "   > Found 2 clusters in hypercube 10.\n",
            "   > Found 3 clusters in hypercube 11.\n",
            "   > Found 2 clusters in hypercube 12.\n",
            "   > Found 2 clusters in hypercube 13.\n",
            "   > Found 2 clusters in hypercube 14.\n",
            "   > Found 1 clusters in hypercube 15.\n",
            "   > Found 1 clusters in hypercube 16.\n",
            "   > Found 1 clusters in hypercube 17.\n",
            "   > Found 1 clusters in hypercube 18.\n",
            "   > Found 1 clusters in hypercube 19.\n",
            "   > Found 1 clusters in hypercube 20.\n",
            "   > Found 1 clusters in hypercube 21.\n",
            "   > Found 1 clusters in hypercube 22.\n",
            "   > Found 1 clusters in hypercube 23.\n",
            "   > Found 1 clusters in hypercube 24.\n",
            "   > Found 1 clusters in hypercube 25.\n",
            "   > Found 1 clusters in hypercube 26.\n",
            "   > Found 1 clusters in hypercube 27.\n",
            "   > Found 1 clusters in hypercube 28.\n",
            "   > Found 1 clusters in hypercube 29.\n",
            "\n",
            "Created 44 edges and 49 nodes in 0:00:00.123524.\n",
            "Wrote visualization to: output/horse.html\n",
            "no display found. Using non-interactive Agg backend\n"
          ]
        }
      ]
    }
  ]
}